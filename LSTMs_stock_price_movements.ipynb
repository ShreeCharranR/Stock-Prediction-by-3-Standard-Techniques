{
 "cells": [
  {
   "cell_type": "code",
   "execution_count": 2,
   "metadata": {
    "colab": {},
    "colab_type": "code",
    "id": "6C2hTl_aL2hQ"
   },
   "outputs": [],
   "source": [
    "import datetime\n",
    "import pandas as pd\n",
    "def parser(x):\n",
    "    return datetime.datetime.strptime(x,'%m/%d/%Y')\n",
    "\n",
    "data = pd.read_csv(\"AMZN.csv\", header=0, parse_dates=[0], date_parser=parser)"
   ]
  },
  {
   "cell_type": "code",
   "execution_count": 3,
   "metadata": {
    "colab": {
     "base_uri": "https://localhost:8080/",
     "height": 226
    },
    "colab_type": "code",
    "id": "HavWipTJKN9o",
    "outputId": "2d74249a-8af7-4dff-9b7e-390e73e23c35"
   },
   "outputs": [
    {
     "data": {
      "text/html": [
       "<div>\n",
       "<style scoped>\n",
       "    .dataframe tbody tr th:only-of-type {\n",
       "        vertical-align: middle;\n",
       "    }\n",
       "\n",
       "    .dataframe tbody tr th {\n",
       "        vertical-align: top;\n",
       "    }\n",
       "\n",
       "    .dataframe thead th {\n",
       "        text-align: right;\n",
       "    }\n",
       "</style>\n",
       "<table border=\"1\" class=\"dataframe\">\n",
       "  <thead>\n",
       "    <tr style=\"text-align: right;\">\n",
       "      <th></th>\n",
       "      <th>Date</th>\n",
       "      <th>Open</th>\n",
       "      <th>High</th>\n",
       "      <th>Low</th>\n",
       "      <th>Adj Close</th>\n",
       "      <th>Volume</th>\n",
       "      <th>ma7</th>\n",
       "      <th>ma21</th>\n",
       "      <th>26ema</th>\n",
       "      <th>12ema</th>\n",
       "      <th>MACD</th>\n",
       "      <th>20sd</th>\n",
       "      <th>upper_band</th>\n",
       "      <th>lower_band</th>\n",
       "      <th>ema</th>\n",
       "      <th>momentum</th>\n",
       "      <th>Fourier</th>\n",
       "      <th>ARIMA</th>\n",
       "      <th>Close</th>\n",
       "      <th>labels</th>\n",
       "    </tr>\n",
       "  </thead>\n",
       "  <tbody>\n",
       "    <tr>\n",
       "      <th>0</th>\n",
       "      <td>2010-01-04</td>\n",
       "      <td>136.250000</td>\n",
       "      <td>136.610001</td>\n",
       "      <td>133.139999</td>\n",
       "      <td>133.899994</td>\n",
       "      <td>7599900</td>\n",
       "      <td>NaN</td>\n",
       "      <td>NaN</td>\n",
       "      <td>NaN</td>\n",
       "      <td>NaN</td>\n",
       "      <td>NaN</td>\n",
       "      <td>NaN</td>\n",
       "      <td>NaN</td>\n",
       "      <td>NaN</td>\n",
       "      <td>NaN</td>\n",
       "      <td>NaN</td>\n",
       "      <td>NaN</td>\n",
       "      <td>NaN</td>\n",
       "      <td>133.899994</td>\n",
       "      <td>NaN</td>\n",
       "    </tr>\n",
       "    <tr>\n",
       "      <th>1</th>\n",
       "      <td>2010-01-05</td>\n",
       "      <td>133.429993</td>\n",
       "      <td>135.479996</td>\n",
       "      <td>131.809998</td>\n",
       "      <td>134.690002</td>\n",
       "      <td>8851900</td>\n",
       "      <td>NaN</td>\n",
       "      <td>NaN</td>\n",
       "      <td>NaN</td>\n",
       "      <td>NaN</td>\n",
       "      <td>NaN</td>\n",
       "      <td>NaN</td>\n",
       "      <td>NaN</td>\n",
       "      <td>NaN</td>\n",
       "      <td>NaN</td>\n",
       "      <td>NaN</td>\n",
       "      <td>NaN</td>\n",
       "      <td>NaN</td>\n",
       "      <td>134.690002</td>\n",
       "      <td>NaN</td>\n",
       "    </tr>\n",
       "    <tr>\n",
       "      <th>2</th>\n",
       "      <td>2010-01-06</td>\n",
       "      <td>134.600006</td>\n",
       "      <td>134.729996</td>\n",
       "      <td>131.649994</td>\n",
       "      <td>132.250000</td>\n",
       "      <td>7178800</td>\n",
       "      <td>NaN</td>\n",
       "      <td>NaN</td>\n",
       "      <td>NaN</td>\n",
       "      <td>NaN</td>\n",
       "      <td>NaN</td>\n",
       "      <td>NaN</td>\n",
       "      <td>NaN</td>\n",
       "      <td>NaN</td>\n",
       "      <td>NaN</td>\n",
       "      <td>NaN</td>\n",
       "      <td>NaN</td>\n",
       "      <td>NaN</td>\n",
       "      <td>132.250000</td>\n",
       "      <td>NaN</td>\n",
       "    </tr>\n",
       "    <tr>\n",
       "      <th>3</th>\n",
       "      <td>2010-01-07</td>\n",
       "      <td>132.009995</td>\n",
       "      <td>132.320007</td>\n",
       "      <td>128.800003</td>\n",
       "      <td>130.000000</td>\n",
       "      <td>11030200</td>\n",
       "      <td>NaN</td>\n",
       "      <td>NaN</td>\n",
       "      <td>NaN</td>\n",
       "      <td>NaN</td>\n",
       "      <td>NaN</td>\n",
       "      <td>NaN</td>\n",
       "      <td>NaN</td>\n",
       "      <td>NaN</td>\n",
       "      <td>NaN</td>\n",
       "      <td>NaN</td>\n",
       "      <td>NaN</td>\n",
       "      <td>NaN</td>\n",
       "      <td>130.000000</td>\n",
       "      <td>NaN</td>\n",
       "    </tr>\n",
       "    <tr>\n",
       "      <th>4</th>\n",
       "      <td>2010-01-08</td>\n",
       "      <td>130.559998</td>\n",
       "      <td>133.679993</td>\n",
       "      <td>129.029999</td>\n",
       "      <td>133.520004</td>\n",
       "      <td>9830500</td>\n",
       "      <td>NaN</td>\n",
       "      <td>NaN</td>\n",
       "      <td>NaN</td>\n",
       "      <td>NaN</td>\n",
       "      <td>NaN</td>\n",
       "      <td>NaN</td>\n",
       "      <td>NaN</td>\n",
       "      <td>NaN</td>\n",
       "      <td>NaN</td>\n",
       "      <td>NaN</td>\n",
       "      <td>NaN</td>\n",
       "      <td>NaN</td>\n",
       "      <td>133.520004</td>\n",
       "      <td>NaN</td>\n",
       "    </tr>\n",
       "  </tbody>\n",
       "</table>\n",
       "</div>"
      ],
      "text/plain": [
       "        Date        Open        High         Low   Adj Close    Volume  ma7  \\\n",
       "0 2010-01-04  136.250000  136.610001  133.139999  133.899994   7599900  NaN   \n",
       "1 2010-01-05  133.429993  135.479996  131.809998  134.690002   8851900  NaN   \n",
       "2 2010-01-06  134.600006  134.729996  131.649994  132.250000   7178800  NaN   \n",
       "3 2010-01-07  132.009995  132.320007  128.800003  130.000000  11030200  NaN   \n",
       "4 2010-01-08  130.559998  133.679993  129.029999  133.520004   9830500  NaN   \n",
       "\n",
       "   ma21  26ema  12ema  MACD  20sd  upper_band  lower_band  ema  momentum  \\\n",
       "0   NaN    NaN    NaN   NaN   NaN         NaN         NaN  NaN       NaN   \n",
       "1   NaN    NaN    NaN   NaN   NaN         NaN         NaN  NaN       NaN   \n",
       "2   NaN    NaN    NaN   NaN   NaN         NaN         NaN  NaN       NaN   \n",
       "3   NaN    NaN    NaN   NaN   NaN         NaN         NaN  NaN       NaN   \n",
       "4   NaN    NaN    NaN   NaN   NaN         NaN         NaN  NaN       NaN   \n",
       "\n",
       "   Fourier  ARIMA       Close  labels  \n",
       "0      NaN    NaN  133.899994     NaN  \n",
       "1      NaN    NaN  134.690002     NaN  \n",
       "2      NaN    NaN  132.250000     NaN  \n",
       "3      NaN    NaN  130.000000     NaN  \n",
       "4      NaN    NaN  133.520004     NaN  "
      ]
     },
     "execution_count": 3,
     "metadata": {},
     "output_type": "execute_result"
    }
   ],
   "source": [
    "data.head(5)"
   ]
  },
  {
   "cell_type": "code",
   "execution_count": 4,
   "metadata": {
    "colab": {
     "base_uri": "https://localhost:8080/",
     "height": 320
    },
    "colab_type": "code",
    "id": "GE-t9QsuKPIv",
    "outputId": "e8de0bb0-b342-46f4-f3de-2a6658e22dfe"
   },
   "outputs": [
    {
     "data": {
      "text/html": [
       "<div>\n",
       "<style scoped>\n",
       "    .dataframe tbody tr th:only-of-type {\n",
       "        vertical-align: middle;\n",
       "    }\n",
       "\n",
       "    .dataframe tbody tr th {\n",
       "        vertical-align: top;\n",
       "    }\n",
       "\n",
       "    .dataframe thead th {\n",
       "        text-align: right;\n",
       "    }\n",
       "</style>\n",
       "<table border=\"1\" class=\"dataframe\">\n",
       "  <thead>\n",
       "    <tr style=\"text-align: right;\">\n",
       "      <th></th>\n",
       "      <th>Open</th>\n",
       "      <th>High</th>\n",
       "      <th>Low</th>\n",
       "      <th>Adj Close</th>\n",
       "      <th>Volume</th>\n",
       "      <th>ma7</th>\n",
       "      <th>ma21</th>\n",
       "      <th>26ema</th>\n",
       "      <th>12ema</th>\n",
       "      <th>MACD</th>\n",
       "      <th>20sd</th>\n",
       "      <th>upper_band</th>\n",
       "      <th>lower_band</th>\n",
       "      <th>ema</th>\n",
       "      <th>momentum</th>\n",
       "      <th>Fourier</th>\n",
       "      <th>ARIMA</th>\n",
       "      <th>Close</th>\n",
       "      <th>labels</th>\n",
       "    </tr>\n",
       "  </thead>\n",
       "  <tbody>\n",
       "    <tr>\n",
       "      <th>count</th>\n",
       "      <td>2265.000000</td>\n",
       "      <td>2265.000000</td>\n",
       "      <td>2265.000000</td>\n",
       "      <td>2265.000000</td>\n",
       "      <td>2.265000e+03</td>\n",
       "      <td>0.0</td>\n",
       "      <td>0.0</td>\n",
       "      <td>0.0</td>\n",
       "      <td>0.0</td>\n",
       "      <td>0.0</td>\n",
       "      <td>0.0</td>\n",
       "      <td>0.0</td>\n",
       "      <td>0.0</td>\n",
       "      <td>0.0</td>\n",
       "      <td>0.0</td>\n",
       "      <td>0.0</td>\n",
       "      <td>0.0</td>\n",
       "      <td>2265.000000</td>\n",
       "      <td>0.0</td>\n",
       "    </tr>\n",
       "    <tr>\n",
       "      <th>mean</th>\n",
       "      <td>553.000949</td>\n",
       "      <td>558.568702</td>\n",
       "      <td>546.430821</td>\n",
       "      <td>552.743179</td>\n",
       "      <td>4.603646e+06</td>\n",
       "      <td>NaN</td>\n",
       "      <td>NaN</td>\n",
       "      <td>NaN</td>\n",
       "      <td>NaN</td>\n",
       "      <td>NaN</td>\n",
       "      <td>NaN</td>\n",
       "      <td>NaN</td>\n",
       "      <td>NaN</td>\n",
       "      <td>NaN</td>\n",
       "      <td>NaN</td>\n",
       "      <td>NaN</td>\n",
       "      <td>NaN</td>\n",
       "      <td>552.743179</td>\n",
       "      <td>NaN</td>\n",
       "    </tr>\n",
       "    <tr>\n",
       "      <th>std</th>\n",
       "      <td>470.155920</td>\n",
       "      <td>474.660681</td>\n",
       "      <td>463.993737</td>\n",
       "      <td>469.357785</td>\n",
       "      <td>2.954860e+06</td>\n",
       "      <td>NaN</td>\n",
       "      <td>NaN</td>\n",
       "      <td>NaN</td>\n",
       "      <td>NaN</td>\n",
       "      <td>NaN</td>\n",
       "      <td>NaN</td>\n",
       "      <td>NaN</td>\n",
       "      <td>NaN</td>\n",
       "      <td>NaN</td>\n",
       "      <td>NaN</td>\n",
       "      <td>NaN</td>\n",
       "      <td>NaN</td>\n",
       "      <td>469.357785</td>\n",
       "      <td>NaN</td>\n",
       "    </tr>\n",
       "    <tr>\n",
       "      <th>min</th>\n",
       "      <td>105.930000</td>\n",
       "      <td>111.290001</td>\n",
       "      <td>105.800003</td>\n",
       "      <td>108.610001</td>\n",
       "      <td>9.844000e+05</td>\n",
       "      <td>NaN</td>\n",
       "      <td>NaN</td>\n",
       "      <td>NaN</td>\n",
       "      <td>NaN</td>\n",
       "      <td>NaN</td>\n",
       "      <td>NaN</td>\n",
       "      <td>NaN</td>\n",
       "      <td>NaN</td>\n",
       "      <td>NaN</td>\n",
       "      <td>NaN</td>\n",
       "      <td>NaN</td>\n",
       "      <td>NaN</td>\n",
       "      <td>108.610001</td>\n",
       "      <td>NaN</td>\n",
       "    </tr>\n",
       "    <tr>\n",
       "      <th>25%</th>\n",
       "      <td>217.649994</td>\n",
       "      <td>219.979996</td>\n",
       "      <td>214.460007</td>\n",
       "      <td>217.830002</td>\n",
       "      <td>2.786500e+06</td>\n",
       "      <td>NaN</td>\n",
       "      <td>NaN</td>\n",
       "      <td>NaN</td>\n",
       "      <td>NaN</td>\n",
       "      <td>NaN</td>\n",
       "      <td>NaN</td>\n",
       "      <td>NaN</td>\n",
       "      <td>NaN</td>\n",
       "      <td>NaN</td>\n",
       "      <td>NaN</td>\n",
       "      <td>NaN</td>\n",
       "      <td>NaN</td>\n",
       "      <td>217.830002</td>\n",
       "      <td>NaN</td>\n",
       "    </tr>\n",
       "    <tr>\n",
       "      <th>50%</th>\n",
       "      <td>334.679993</td>\n",
       "      <td>336.760010</td>\n",
       "      <td>328.940002</td>\n",
       "      <td>332.910004</td>\n",
       "      <td>3.872500e+06</td>\n",
       "      <td>NaN</td>\n",
       "      <td>NaN</td>\n",
       "      <td>NaN</td>\n",
       "      <td>NaN</td>\n",
       "      <td>NaN</td>\n",
       "      <td>NaN</td>\n",
       "      <td>NaN</td>\n",
       "      <td>NaN</td>\n",
       "      <td>NaN</td>\n",
       "      <td>NaN</td>\n",
       "      <td>NaN</td>\n",
       "      <td>NaN</td>\n",
       "      <td>332.910004</td>\n",
       "      <td>NaN</td>\n",
       "    </tr>\n",
       "    <tr>\n",
       "      <th>75%</th>\n",
       "      <td>766.599976</td>\n",
       "      <td>771.219971</td>\n",
       "      <td>761.200012</td>\n",
       "      <td>767.330017</td>\n",
       "      <td>5.425000e+06</td>\n",
       "      <td>NaN</td>\n",
       "      <td>NaN</td>\n",
       "      <td>NaN</td>\n",
       "      <td>NaN</td>\n",
       "      <td>NaN</td>\n",
       "      <td>NaN</td>\n",
       "      <td>NaN</td>\n",
       "      <td>NaN</td>\n",
       "      <td>NaN</td>\n",
       "      <td>NaN</td>\n",
       "      <td>NaN</td>\n",
       "      <td>NaN</td>\n",
       "      <td>767.330017</td>\n",
       "      <td>NaN</td>\n",
       "    </tr>\n",
       "    <tr>\n",
       "      <th>max</th>\n",
       "      <td>2038.109985</td>\n",
       "      <td>2050.500000</td>\n",
       "      <td>2013.000000</td>\n",
       "      <td>2039.510010</td>\n",
       "      <td>4.242110e+07</td>\n",
       "      <td>NaN</td>\n",
       "      <td>NaN</td>\n",
       "      <td>NaN</td>\n",
       "      <td>NaN</td>\n",
       "      <td>NaN</td>\n",
       "      <td>NaN</td>\n",
       "      <td>NaN</td>\n",
       "      <td>NaN</td>\n",
       "      <td>NaN</td>\n",
       "      <td>NaN</td>\n",
       "      <td>NaN</td>\n",
       "      <td>NaN</td>\n",
       "      <td>2039.510010</td>\n",
       "      <td>NaN</td>\n",
       "    </tr>\n",
       "  </tbody>\n",
       "</table>\n",
       "</div>"
      ],
      "text/plain": [
       "              Open         High          Low    Adj Close        Volume  ma7  \\\n",
       "count  2265.000000  2265.000000  2265.000000  2265.000000  2.265000e+03  0.0   \n",
       "mean    553.000949   558.568702   546.430821   552.743179  4.603646e+06  NaN   \n",
       "std     470.155920   474.660681   463.993737   469.357785  2.954860e+06  NaN   \n",
       "min     105.930000   111.290001   105.800003   108.610001  9.844000e+05  NaN   \n",
       "25%     217.649994   219.979996   214.460007   217.830002  2.786500e+06  NaN   \n",
       "50%     334.679993   336.760010   328.940002   332.910004  3.872500e+06  NaN   \n",
       "75%     766.599976   771.219971   761.200012   767.330017  5.425000e+06  NaN   \n",
       "max    2038.109985  2050.500000  2013.000000  2039.510010  4.242110e+07  NaN   \n",
       "\n",
       "       ma21  26ema  12ema  MACD  20sd  upper_band  lower_band  ema  momentum  \\\n",
       "count   0.0    0.0    0.0   0.0   0.0         0.0         0.0  0.0       0.0   \n",
       "mean    NaN    NaN    NaN   NaN   NaN         NaN         NaN  NaN       NaN   \n",
       "std     NaN    NaN    NaN   NaN   NaN         NaN         NaN  NaN       NaN   \n",
       "min     NaN    NaN    NaN   NaN   NaN         NaN         NaN  NaN       NaN   \n",
       "25%     NaN    NaN    NaN   NaN   NaN         NaN         NaN  NaN       NaN   \n",
       "50%     NaN    NaN    NaN   NaN   NaN         NaN         NaN  NaN       NaN   \n",
       "75%     NaN    NaN    NaN   NaN   NaN         NaN         NaN  NaN       NaN   \n",
       "max     NaN    NaN    NaN   NaN   NaN         NaN         NaN  NaN       NaN   \n",
       "\n",
       "       Fourier  ARIMA        Close  labels  \n",
       "count      0.0    0.0  2265.000000     0.0  \n",
       "mean       NaN    NaN   552.743179     NaN  \n",
       "std        NaN    NaN   469.357785     NaN  \n",
       "min        NaN    NaN   108.610001     NaN  \n",
       "25%        NaN    NaN   217.830002     NaN  \n",
       "50%        NaN    NaN   332.910004     NaN  \n",
       "75%        NaN    NaN   767.330017     NaN  \n",
       "max        NaN    NaN  2039.510010     NaN  "
      ]
     },
     "execution_count": 4,
     "metadata": {},
     "output_type": "execute_result"
    }
   ],
   "source": [
    "data.describe()"
   ]
  },
  {
   "cell_type": "code",
   "execution_count": 5,
   "metadata": {
    "colab": {
     "base_uri": "https://localhost:8080/",
     "height": 513
    },
    "colab_type": "code",
    "id": "XtlFXVrcKVYF",
    "outputId": "47886603-aae8-4975-dc7a-1d6729610037"
   },
   "outputs": [
    {
     "name": "stdout",
     "output_type": "stream",
     "text": [
      "<class 'pandas.core.frame.DataFrame'>\n",
      "RangeIndex: 2265 entries, 0 to 2264\n",
      "Data columns (total 20 columns):\n",
      "Date          2265 non-null datetime64[ns]\n",
      "Open          2265 non-null float64\n",
      "High          2265 non-null float64\n",
      "Low           2265 non-null float64\n",
      "Adj Close     2265 non-null float64\n",
      "Volume        2265 non-null int64\n",
      "ma7           0 non-null float64\n",
      "ma21          0 non-null float64\n",
      "26ema         0 non-null float64\n",
      "12ema         0 non-null float64\n",
      "MACD          0 non-null float64\n",
      "20sd          0 non-null float64\n",
      "upper_band    0 non-null float64\n",
      "lower_band    0 non-null float64\n",
      "ema           0 non-null float64\n",
      "momentum      0 non-null float64\n",
      "Fourier       0 non-null float64\n",
      "ARIMA         0 non-null float64\n",
      "Close         2265 non-null float64\n",
      "labels        0 non-null float64\n",
      "dtypes: datetime64[ns](1), float64(18), int64(1)\n",
      "memory usage: 354.0 KB\n"
     ]
    }
   ],
   "source": [
    "data.info()"
   ]
  },
  {
   "cell_type": "markdown",
   "metadata": {
    "colab_type": "text",
    "id": "Ne62tOd7Ka1D"
   },
   "source": [
    "## Data Preprocessing"
   ]
  },
  {
   "cell_type": "code",
   "execution_count": 6,
   "metadata": {
    "colab": {},
    "colab_type": "code",
    "id": "88PVeKxGKXFe"
   },
   "outputs": [],
   "source": [
    "from keras.layers.core import Dense, Activation, Dropout\n",
    "from keras.layers.recurrent import LSTM\n",
    "from keras.models import Sequential\n",
    "import time"
   ]
  },
  {
   "cell_type": "code",
   "execution_count": 7,
   "metadata": {
    "colab": {},
    "colab_type": "code",
    "id": "gmeOlw7cKdwx"
   },
   "outputs": [],
   "source": [
    "data = data.dropna(axis = \"columns\")"
   ]
  },
  {
   "cell_type": "code",
   "execution_count": 8,
   "metadata": {
    "colab": {
     "base_uri": "https://localhost:8080/",
     "height": 206
    },
    "colab_type": "code",
    "id": "u0kCaKV-KjFI",
    "outputId": "5af95cae-241b-4b00-8011-0e432b1e29b0"
   },
   "outputs": [
    {
     "data": {
      "text/html": [
       "<div>\n",
       "<style scoped>\n",
       "    .dataframe tbody tr th:only-of-type {\n",
       "        vertical-align: middle;\n",
       "    }\n",
       "\n",
       "    .dataframe tbody tr th {\n",
       "        vertical-align: top;\n",
       "    }\n",
       "\n",
       "    .dataframe thead th {\n",
       "        text-align: right;\n",
       "    }\n",
       "</style>\n",
       "<table border=\"1\" class=\"dataframe\">\n",
       "  <thead>\n",
       "    <tr style=\"text-align: right;\">\n",
       "      <th></th>\n",
       "      <th>Date</th>\n",
       "      <th>Open</th>\n",
       "      <th>High</th>\n",
       "      <th>Low</th>\n",
       "      <th>Adj Close</th>\n",
       "      <th>Volume</th>\n",
       "      <th>Close</th>\n",
       "    </tr>\n",
       "  </thead>\n",
       "  <tbody>\n",
       "    <tr>\n",
       "      <th>0</th>\n",
       "      <td>2010-01-04</td>\n",
       "      <td>136.250000</td>\n",
       "      <td>136.610001</td>\n",
       "      <td>133.139999</td>\n",
       "      <td>133.899994</td>\n",
       "      <td>7599900</td>\n",
       "      <td>133.899994</td>\n",
       "    </tr>\n",
       "    <tr>\n",
       "      <th>1</th>\n",
       "      <td>2010-01-05</td>\n",
       "      <td>133.429993</td>\n",
       "      <td>135.479996</td>\n",
       "      <td>131.809998</td>\n",
       "      <td>134.690002</td>\n",
       "      <td>8851900</td>\n",
       "      <td>134.690002</td>\n",
       "    </tr>\n",
       "    <tr>\n",
       "      <th>2</th>\n",
       "      <td>2010-01-06</td>\n",
       "      <td>134.600006</td>\n",
       "      <td>134.729996</td>\n",
       "      <td>131.649994</td>\n",
       "      <td>132.250000</td>\n",
       "      <td>7178800</td>\n",
       "      <td>132.250000</td>\n",
       "    </tr>\n",
       "    <tr>\n",
       "      <th>3</th>\n",
       "      <td>2010-01-07</td>\n",
       "      <td>132.009995</td>\n",
       "      <td>132.320007</td>\n",
       "      <td>128.800003</td>\n",
       "      <td>130.000000</td>\n",
       "      <td>11030200</td>\n",
       "      <td>130.000000</td>\n",
       "    </tr>\n",
       "    <tr>\n",
       "      <th>4</th>\n",
       "      <td>2010-01-08</td>\n",
       "      <td>130.559998</td>\n",
       "      <td>133.679993</td>\n",
       "      <td>129.029999</td>\n",
       "      <td>133.520004</td>\n",
       "      <td>9830500</td>\n",
       "      <td>133.520004</td>\n",
       "    </tr>\n",
       "  </tbody>\n",
       "</table>\n",
       "</div>"
      ],
      "text/plain": [
       "        Date        Open        High         Low   Adj Close    Volume  \\\n",
       "0 2010-01-04  136.250000  136.610001  133.139999  133.899994   7599900   \n",
       "1 2010-01-05  133.429993  135.479996  131.809998  134.690002   8851900   \n",
       "2 2010-01-06  134.600006  134.729996  131.649994  132.250000   7178800   \n",
       "3 2010-01-07  132.009995  132.320007  128.800003  130.000000  11030200   \n",
       "4 2010-01-08  130.559998  133.679993  129.029999  133.520004   9830500   \n",
       "\n",
       "        Close  \n",
       "0  133.899994  \n",
       "1  134.690002  \n",
       "2  132.250000  \n",
       "3  130.000000  \n",
       "4  133.520004  "
      ]
     },
     "execution_count": 8,
     "metadata": {},
     "output_type": "execute_result"
    }
   ],
   "source": [
    "data.head(5)"
   ]
  },
  {
   "cell_type": "code",
   "execution_count": 9,
   "metadata": {
    "colab": {},
    "colab_type": "code",
    "id": "DQG_U8e8Kkp2"
   },
   "outputs": [],
   "source": [
    "data_close = data['Close']"
   ]
  },
  {
   "cell_type": "code",
   "execution_count": 10,
   "metadata": {
    "colab": {
     "base_uri": "https://localhost:8080/",
     "height": 35
    },
    "colab_type": "code",
    "id": "H0rEh23OKx8z",
    "outputId": "1b77bf36-4579-4850-8612-d7244ad583c8"
   },
   "outputs": [
    {
     "data": {
      "text/plain": [
       "(2265,)"
      ]
     },
     "execution_count": 10,
     "metadata": {},
     "output_type": "execute_result"
    }
   ],
   "source": [
    "data_close.shape"
   ]
  },
  {
   "cell_type": "code",
   "execution_count": 11,
   "metadata": {
    "colab": {},
    "colab_type": "code",
    "id": "5kUOcTybK0Y9"
   },
   "outputs": [],
   "source": [
    "data_close = data_close.values.reshape(2265,1)"
   ]
  },
  {
   "cell_type": "code",
   "execution_count": 12,
   "metadata": {
    "colab": {
     "base_uri": "https://localhost:8080/",
     "height": 383
    },
    "colab_type": "code",
    "id": "vxW3mlYcK-pS",
    "outputId": "22e0d5c7-ee6f-426c-d9f9-6216e43ba8ec"
   },
   "outputs": [
    {
     "name": "stderr",
     "output_type": "stream",
     "text": [
      "C:\\Users\\Shree.Charran\\.conda\\envs\\py35\\lib\\site-packages\\pandas\\plotting\\_matplotlib\\converter.py:103: FutureWarning: Using an implicitly registered datetime converter for a matplotlib plotting method. The converter was registered by pandas on import. Future versions of pandas will require you to explicitly register matplotlib converters.\n",
      "\n",
      "To register the converters:\n",
      "\t>>> from pandas.plotting import register_matplotlib_converters\n",
      "\t>>> register_matplotlib_converters()\n",
      "  warnings.warn(msg, FutureWarning)\n"
     ]
    },
    {
     "data": {
      "image/png": "[encoded data removed]",
      "text/plain": [
       "<Figure size 1008x360 with 1 Axes>"
      ]
     },
     "metadata": {},
     "output_type": "display_data"
    }
   ],
   "source": [
    "import matplotlib.pyplot as plt\n",
    "%matplotlib inline\n",
    "plt.style.use('fivethirtyeight')\n",
    "from sklearn.preprocessing import MinMaxScaler\n",
    "\n",
    "plt.figure(figsize=(14, 5))\n",
    "plt.plot(data['Date'], data['Close'], label='Stock Price')\n",
    "plt.xlabel('Date')\n",
    "plt.ylabel('USD')\n",
    "plt.title('Amazon Stock Price Variations')\n",
    "plt.legend(loc='best')\n",
    "plt.show()\n",
    "\n",
    "scaler = MinMaxScaler(feature_range=(0, 1))\n",
    "data_close = scaler.fit_transform(data_close)"
   ]
  },
  {
   "cell_type": "code",
   "execution_count": 13,
   "metadata": {
    "colab": {
     "base_uri": "https://localhost:8080/",
     "height": 54
    },
    "colab_type": "code",
    "id": "5KNMbGzrLP3p",
    "outputId": "8afe1d7b-ce6b-4420-92f6-d7b5cc0f34ec"
   },
   "outputs": [
    {
     "name": "stdout",
     "output_type": "stream",
     "text": [
      "Number of training samples: 1812\n",
      "Number of testing samples: 453\n"
     ]
    }
   ],
   "source": [
    "#Training and testing data split\n",
    "train_size = int(len(data_close) * 0.80)\n",
    "test_size = len(data_close) - train_size\n",
    "train, test = data_close[0:train_size,:], data_close[train_size:len(data_close),:]\n",
    "print('Number of training samples:', len(train)) \n",
    "print('Number of testing samples:', len(test))"
   ]
  },
  {
   "cell_type": "markdown",
   "metadata": {
    "colab_type": "text",
    "id": "pTgQ5dROM9Fs"
   },
   "source": [
    "## Normalization \n"
   ]
  },
  {
   "cell_type": "code",
   "execution_count": 14,
   "metadata": {
    "colab": {},
    "colab_type": "code",
    "id": "Llf-smQqMoUN"
   },
   "outputs": [],
   "source": [
    "#converting an array of values into a dataset matrix\n",
    "def create_dataset(dataset, look_back=1): #keeping only similar values, and jumping to the next value if values are too far apart\n",
    "    dataX, dataY = [], []  \n",
    "    for i in range(len(dataset)-look_back-1): #dataY holds only output values\n",
    "        a = dataset[i:(i+look_back), 0]\n",
    "        dataX.append(a)\n",
    "        dataY.append(dataset[i + look_back, 0])\n",
    "    return np.array(dataX), np.array(dataY)"
   ]
  },
  {
   "cell_type": "code",
   "execution_count": 17,
   "metadata": {
    "colab": {},
    "colab_type": "code",
    "id": "gJQ-Wz10Nw2l"
   },
   "outputs": [],
   "source": [
    "#reshaping into X=t and Y=t+1\n",
    "import numpy as np\n",
    "look_back = 1\n",
    "trainX, trainY = create_dataset(train, look_back)\n",
    "testX, testY = create_dataset(test, look_back)"
   ]
  },
  {
   "cell_type": "code",
   "execution_count": 18,
   "metadata": {
    "colab": {},
    "colab_type": "code",
    "id": "Lfbr0748N1op"
   },
   "outputs": [],
   "source": [
    "trainX = np.reshape(trainX, (trainX.shape[0], 1, trainX.shape[1]))\n",
    "testX = np.reshape(testX, (testX.shape[0], 1, testX.shape[1]))"
   ]
  },
  {
   "cell_type": "markdown",
   "metadata": {
    "colab_type": "text",
    "id": "mXiNxOmnN6T-"
   },
   "source": [
    "# Building and compiling the model"
   ]
  },
  {
   "cell_type": "code",
   "execution_count": 19,
   "metadata": {
    "colab": {},
    "colab_type": "code",
    "id": "KQODBGB-OPa5"
   },
   "outputs": [],
   "source": [
    "import tensorflow as tf\n",
    "from keras.models import Sequential\n",
    "from keras.layers import Dense\n",
    "from keras.layers import LSTM\n",
    "from keras.layers import Dropout\n",
    "from keras.layers import Flatten\n",
    "\n",
    "model = Sequential()\n",
    "model.add(LSTM(units=50, return_sequences=True))\n",
    "model.add(Dropout(0.2))\n",
    "model.add(LSTM(units=100, return_sequences=False))\n",
    "model.add(Dropout(0.2))\n",
    "model.add(Flatten())\n",
    "model.add(Dense(units = 1))\n",
    "model.add(Activation('relu'))\n",
    "model.compile(optimizer = 'rmsprop', loss = 'mean_squared_error', metrics = ['mean_absolute_error'])"
   ]
  },
  {
   "cell_type": "code",
   "execution_count": 20,
   "metadata": {
    "colab": {
     "base_uri": "https://localhost:8080/",
     "height": 1000
    },
    "colab_type": "code",
    "id": "S7F6xV6-O9qc",
    "outputId": "15916106-309b-4832-8e9a-7686081905ac"
   },
   "outputs": [
    {
     "name": "stdout",
     "output_type": "stream",
     "text": [
      "Epoch 1/40\n",
      "14/14 [==============================] - 1s 105ms/step - loss: 0.0116 - mean_absolute_error: 0.0750 - val_mean_absolute_error: 0.2190 - val_loss: 0.0483\n",
      "Epoch 2/40\n",
      "14/14 [==============================] - 0s 9ms/step - loss: 0.0063 - mean_absolute_error: 0.0623 - val_mean_absolute_error: 0.1892 - val_loss: 0.0360\n",
      "Epoch 3/40\n",
      "14/14 [==============================] - 0s 10ms/step - loss: 0.0048 - mean_absolute_error: 0.0548 - val_mean_absolute_error: 0.1509 - val_loss: 0.0229\n",
      "Epoch 4/40\n",
      "14/14 [==============================] - 0s 8ms/step - loss: 0.0030 - mean_absolute_error: 0.0430 - val_mean_absolute_error: 0.1058 - val_loss: 0.0113\n",
      "Epoch 5/40\n",
      "14/14 [==============================] - 0s 8ms/step - loss: 0.0013 - mean_absolute_error: 0.0284 - val_mean_absolute_error: 0.0621 - val_loss: 0.0039\n",
      "Epoch 6/40\n",
      "14/14 [==============================] - 0s 9ms/step - loss: 4.8456e-04 - mean_absolute_error: 0.0161 - val_mean_absolute_error: 0.0166 - val_loss: 3.0242e-04\n",
      "Epoch 7/40\n",
      "14/14 [==============================] - 0s 9ms/step - loss: 2.4039e-04 - mean_absolute_error: 0.0114 - val_mean_absolute_error: 0.0147 - val_loss: 2.4559e-04\n",
      "Epoch 8/40\n",
      "14/14 [==============================] - 0s 9ms/step - loss: 2.5081e-04 - mean_absolute_error: 0.0114 - val_mean_absolute_error: 0.0072 - val_loss: 6.9086e-05\n",
      "Epoch 9/40\n",
      "14/14 [==============================] - 0s 10ms/step - loss: 2.4138e-04 - mean_absolute_error: 0.0109 - val_mean_absolute_error: 0.0076 - val_loss: 7.8757e-05\n",
      "Epoch 10/40\n",
      "14/14 [==============================] - 0s 8ms/step - loss: 2.1707e-04 - mean_absolute_error: 0.0100 - val_mean_absolute_error: 0.0079 - val_loss: 8.1329e-05\n",
      "Epoch 11/40\n",
      "14/14 [==============================] - 0s 8ms/step - loss: 2.0562e-04 - mean_absolute_error: 0.0099 - val_mean_absolute_error: 0.0095 - val_loss: 1.1158e-04\n",
      "Epoch 12/40\n",
      "14/14 [==============================] - 0s 8ms/step - loss: 1.7053e-04 - mean_absolute_error: 0.0089 - val_mean_absolute_error: 0.0039 - val_loss: 2.9476e-05\n",
      "Epoch 13/40\n",
      "14/14 [==============================] - 0s 8ms/step - loss: 2.3286e-04 - mean_absolute_error: 0.0106 - val_mean_absolute_error: 0.0039 - val_loss: 2.8380e-05\n",
      "Epoch 14/40\n",
      "14/14 [==============================] - 0s 9ms/step - loss: 2.2921e-04 - mean_absolute_error: 0.0106 - val_mean_absolute_error: 0.0064 - val_loss: 5.9794e-05\n",
      "Epoch 15/40\n",
      "14/14 [==============================] - 0s 9ms/step - loss: 1.7208e-04 - mean_absolute_error: 0.0088 - val_mean_absolute_error: 0.0255 - val_loss: 6.8045e-04\n",
      "Epoch 16/40\n",
      "14/14 [==============================] - 0s 8ms/step - loss: 1.8315e-04 - mean_absolute_error: 0.0097 - val_mean_absolute_error: 0.0132 - val_loss: 1.9967e-04\n",
      "Epoch 17/40\n",
      "14/14 [==============================] - 0s 9ms/step - loss: 1.9116e-04 - mean_absolute_error: 0.0097 - val_mean_absolute_error: 0.0133 - val_loss: 2.0429e-04\n",
      "Epoch 18/40\n",
      "14/14 [==============================] - 0s 9ms/step - loss: 1.6798e-04 - mean_absolute_error: 0.0089 - val_mean_absolute_error: 0.0213 - val_loss: 4.7905e-04\n",
      "Epoch 19/40\n",
      "14/14 [==============================] - 0s 9ms/step - loss: 1.6978e-04 - mean_absolute_error: 0.0089 - val_mean_absolute_error: 0.0090 - val_loss: 1.0232e-04\n",
      "Epoch 20/40\n",
      "14/14 [==============================] - 0s 8ms/step - loss: 1.8851e-04 - mean_absolute_error: 0.0102 - val_mean_absolute_error: 0.0092 - val_loss: 1.0633e-04\n",
      "Epoch 21/40\n",
      "14/14 [==============================] - 0s 9ms/step - loss: 1.7293e-04 - mean_absolute_error: 0.0092 - val_mean_absolute_error: 0.0106 - val_loss: 1.3565e-04\n",
      "Epoch 22/40\n",
      "14/14 [==============================] - 0s 9ms/step - loss: 1.5338e-04 - mean_absolute_error: 0.0089 - val_mean_absolute_error: 0.0133 - val_loss: 2.0115e-04\n",
      "Epoch 23/40\n",
      "14/14 [==============================] - 0s 9ms/step - loss: 1.7739e-04 - mean_absolute_error: 0.0096 - val_mean_absolute_error: 0.0172 - val_loss: 3.2695e-04\n",
      "Epoch 24/40\n",
      "14/14 [==============================] - 0s 10ms/step - loss: 1.5186e-04 - mean_absolute_error: 0.0080 - val_mean_absolute_error: 0.0073 - val_loss: 7.1344e-05\n",
      "Epoch 25/40\n",
      "14/14 [==============================] - 0s 10ms/step - loss: 1.9339e-04 - mean_absolute_error: 0.0096 - val_mean_absolute_error: 0.0047 - val_loss: 3.8463e-05\n",
      "Epoch 26/40\n",
      "14/14 [==============================] - 0s 11ms/step - loss: 1.3476e-04 - mean_absolute_error: 0.0077 - val_mean_absolute_error: 0.0079 - val_loss: 8.2202e-05\n",
      "Epoch 27/40\n",
      "14/14 [==============================] - 0s 10ms/step - loss: 1.9975e-04 - mean_absolute_error: 0.0101 - val_mean_absolute_error: 0.0079 - val_loss: 8.0788e-05\n",
      "Epoch 28/40\n",
      "14/14 [==============================] - 0s 9ms/step - loss: 1.5690e-04 - mean_absolute_error: 0.0085 - val_mean_absolute_error: 0.0112 - val_loss: 1.4815e-04\n",
      "Epoch 29/40\n",
      "14/14 [==============================] - 0s 9ms/step - loss: 1.6785e-04 - mean_absolute_error: 0.0091 - val_mean_absolute_error: 0.0038 - val_loss: 2.7551e-05\n",
      "Epoch 30/40\n",
      "14/14 [==============================] - 0s 9ms/step - loss: 1.4763e-04 - mean_absolute_error: 0.0085 - val_mean_absolute_error: 0.0143 - val_loss: 2.2920e-04\n",
      "Epoch 31/40\n",
      "14/14 [==============================] - 0s 9ms/step - loss: 1.2877e-04 - mean_absolute_error: 0.0079 - val_mean_absolute_error: 0.0078 - val_loss: 7.8983e-05\n",
      "Epoch 32/40\n",
      "14/14 [==============================] - 0s 10ms/step - loss: 1.5619e-04 - mean_absolute_error: 0.0093 - val_mean_absolute_error: 0.0046 - val_loss: 3.7100e-05\n",
      "Epoch 33/40\n",
      "14/14 [==============================] - 0s 10ms/step - loss: 1.1595e-04 - mean_absolute_error: 0.0070 - val_mean_absolute_error: 0.0049 - val_loss: 3.8856e-05\n",
      "Epoch 34/40\n",
      "14/14 [==============================] - 0s 8ms/step - loss: 1.7660e-04 - mean_absolute_error: 0.0095 - val_mean_absolute_error: 0.0107 - val_loss: 1.3638e-04\n",
      "Epoch 35/40\n",
      "14/14 [==============================] - 0s 10ms/step - loss: 1.3711e-04 - mean_absolute_error: 0.0082 - val_mean_absolute_error: 0.0214 - val_loss: 4.8621e-04\n",
      "Epoch 36/40\n",
      "14/14 [==============================] - 0s 9ms/step - loss: 1.4459e-04 - mean_absolute_error: 0.0085 - val_mean_absolute_error: 0.0108 - val_loss: 1.3824e-04\n",
      "Epoch 37/40\n",
      "14/14 [==============================] - 0s 9ms/step - loss: 1.5207e-04 - mean_absolute_error: 0.0087 - val_mean_absolute_error: 0.0066 - val_loss: 6.0281e-05\n",
      "Epoch 38/40\n",
      "14/14 [==============================] - 0s 9ms/step - loss: 1.5504e-04 - mean_absolute_error: 0.0088 - val_mean_absolute_error: 0.0038 - val_loss: 2.7429e-05\n",
      "Epoch 39/40\n",
      "14/14 [==============================] - 0s 9ms/step - loss: 1.5813e-04 - mean_absolute_error: 0.0088 - val_mean_absolute_error: 0.0052 - val_loss: 4.2080e-05\n",
      "Epoch 40/40\n",
      "14/14 [==============================] - 0s 10ms/step - loss: 1.2545e-04 - mean_absolute_error: 0.0080 - val_mean_absolute_error: 0.0042 - val_loss: 3.1290e-05\n"
     ]
    },
    {
     "data": {
      "text/plain": [
       "<tensorflow.python.keras.callbacks.History at 0x1fbb60cd7f0>"
      ]
     },
     "execution_count": 20,
     "metadata": {},
     "output_type": "execute_result"
    }
   ],
   "source": [
    "model.fit(\n",
    "    trainX,\n",
    "    trainY,\n",
    "    batch_size=128,\n",
    "    epochs=40,\n",
    "    validation_split=0.05)"
   ]
  },
  {
   "cell_type": "markdown",
   "metadata": {
    "colab_type": "text",
    "id": "0Sc1jbySQyYH"
   },
   "source": [
    "# Final Predictions and Evaluation"
   ]
  },
  {
   "cell_type": "code",
   "execution_count": 21,
   "metadata": {
    "colab": {
     "base_uri": "https://localhost:8080/",
     "height": 304
    },
    "colab_type": "code",
    "id": "b3R0kvAZQEWd",
    "outputId": "b839fdf9-68be-4e53-9749-97620bea1657"
   },
   "outputs": [
    {
     "data": {
      "image/png": "[encoded data removed]",
      "text/plain": [
       "<Figure size 432x288 with 1 Axes>"
      ]
     },
     "metadata": {
      "needs_background": "light"
     },
     "output_type": "display_data"
    }
   ],
   "source": [
    "import matplotlib.pyplot as plt\n",
    "predicted_stateful = model.predict(testX)\n",
    "plt.plot(testY, color = 'red',label = 'Actual Closing Prices')\n",
    "plt.plot(predicted_stateful.flatten(), color = 'blue', label  = 'Predicted closing Prices')\n",
    "plt.xlabel('Days')\n",
    "plt.ylabel('Normalised Prices')\n",
    "plt.legend(loc='best')\n",
    "plt.show()"
   ]
  },
  {
   "cell_type": "code",
   "execution_count": 22,
   "metadata": {
    "colab": {
     "base_uri": "https://localhost:8080/",
     "height": 35
    },
    "colab_type": "code",
    "id": "R3Dlye2NQcu3",
    "outputId": "b56dff7e-68b1-416b-a92c-90062386bb82"
   },
   "outputs": [
    {
     "name": "stdout",
     "output_type": "stream",
     "text": [
      "15/15 [==============================] - 0s 3ms/step - loss: 2.0236e-05 - mean_absolute_error: 0.0033\n"
     ]
    }
   ],
   "source": [
    "mae = model.evaluate(trainX,\n",
    "    trainY,\n",
    "    batch_size=128,verbose=1)"
   ]
  }
 ],
 "metadata": {
  "colab": {
   "authorship_tag": "ABX9TyMzI8BZgGHGt8GqWjwKIrPq",
   "collapsed_sections": [],
   "include_colab_link": true,
   "name": "LSTMs_stock_price_movements.ipynb",
   "provenance": []
  },
  "kernelspec": {
   "display_name": "Python 3",
   "language": "python",
   "name": "python3"
  },
  "language_info": {
   "codemirror_mode": {
    "name": "ipython",
    "version": 3
   },
   "file_extension": ".py",
   "mimetype": "text/x-python",
   "name": "python",
   "nbconvert_exporter": "python",
   "pygments_lexer": "ipython3",
   "version": "3.5.6"
  }
 },
 "nbformat": 4,
 "nbformat_minor": 4
}
